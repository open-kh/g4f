{
 "cells": [
  {
   "cell_type": "code",
   "execution_count": 1,
   "metadata": {},
   "outputs": [
    {
     "name": "stdout",
     "output_type": "stream",
     "text": [
      "Requirement already satisfied: replicate in /home/linx/miniconda3/lib/python3.11/site-packages (0.15.4)\n",
      "Requirement already satisfied: packaging in /home/linx/.local/lib/python3.11/site-packages (from replicate) (23.1)\n",
      "Requirement already satisfied: pydantic>1 in /home/linx/miniconda3/lib/python3.11/site-packages (from replicate) (1.10.7)\n",
      "Requirement already satisfied: httpx<1,>=0.21.0 in /home/linx/miniconda3/lib/python3.11/site-packages (from replicate) (0.25.0)\n",
      "Requirement already satisfied: certifi in /home/linx/miniconda3/lib/python3.11/site-packages (from httpx<1,>=0.21.0->replicate) (2023.5.7)\n",
      "Requirement already satisfied: httpcore<0.19.0,>=0.18.0 in /home/linx/miniconda3/lib/python3.11/site-packages (from httpx<1,>=0.21.0->replicate) (0.18.0)\n",
      "Requirement already satisfied: idna in /home/linx/miniconda3/lib/python3.11/site-packages (from httpx<1,>=0.21.0->replicate) (2.10)\n",
      "Requirement already satisfied: sniffio in /home/linx/.local/lib/python3.11/site-packages (from httpx<1,>=0.21.0->replicate) (1.3.0)\n",
      "Requirement already satisfied: typing-extensions>=4.2.0 in /home/linx/miniconda3/lib/python3.11/site-packages (from pydantic>1->replicate) (4.5.0)\n",
      "Requirement already satisfied: anyio<5.0,>=3.0 in /home/linx/miniconda3/lib/python3.11/site-packages (from httpcore<0.19.0,>=0.18.0->httpx<1,>=0.21.0->replicate) (3.7.1)\n",
      "Requirement already satisfied: h11<0.15,>=0.13 in /home/linx/miniconda3/lib/python3.11/site-packages (from httpcore<0.19.0,>=0.18.0->httpx<1,>=0.21.0->replicate) (0.14.0)\n"
     ]
    }
   ],
   "source": [
    "!pip install replicate"
   ]
  },
  {
   "cell_type": "code",
   "execution_count": 3,
   "metadata": {},
   "outputs": [],
   "source": [
    "import requests"
   ]
  },
  {
   "cell_type": "code",
   "execution_count": 4,
   "metadata": {},
   "outputs": [],
   "source": [
    "API_KEY = 'r8_F41Wbe8tnRtuA3JUquAPX7af8nOhKCx0nBdQa'"
   ]
  },
  {
   "cell_type": "code",
   "execution_count": 5,
   "metadata": {},
   "outputs": [],
   "source": [
    "url = \"https://api.openai.org/v1/engines/codex-demo-aug2021/completions\"\n",
    "\n",
    "headers = {\n",
    "    \"Authorization\": \"Bearer \" + API_KEY,\n",
    "    \"Content-Type\": \"application/json\",\n",
    "}\n",
    "\n",
    "data = {\n",
    "    \"prompt\": \"In a shocking finding, scientists discovered a herd of unicorns living in a remote, \"\n",
    "}"
   ]
  },
  {
   "cell_type": "code",
   "execution_count": 6,
   "metadata": {},
   "outputs": [],
   "source": [
    "# Request URL:\n",
    "# https://p.clarity.ms/collect\n",
    "# Request Method:\n",
    "# POST\n",
    "# Status Code:\n",
    "# 204 No Content\n",
    "# Remote Address:\n",
    "# 20.122.63.128:443\n",
    "# Referrer Policy:\n",
    "# origin-when-cross-origin"
   ]
  },
  {
   "cell_type": "code",
   "execution_count": 7,
   "metadata": {},
   "outputs": [],
   "source": [
    "# HTTP/1.1 204 No Content\n",
    "# Server: nginx/1.18.0 (Ubuntu)\n",
    "# Date: Tue, 07 Nov 2023 12:17:16 GMT\n",
    "# Connection: keep-alive\n",
    "# Access-Control-Allow-Credentials: true\n",
    "# Access-Control-Allow-Origin: https://www.bing.com\n",
    "# Vary: Origin\n",
    "# Request-Context: appId=cid-v1:2f7711a9-b21e-4abe-a9d6-5b0ce5d18b64"
   ]
  },
  {
   "cell_type": "code",
   "execution_count": 8,
   "metadata": {},
   "outputs": [],
   "source": [
    "# POST /collect HTTP/1.1\n",
    "# Accept: application/x-clarity-gzip\n",
    "# Accept-Encoding: gzip, deflate, br\n",
    "# Accept-Language: en-US,en;q=0.9\n",
    "# Connection: keep-alive\n",
    "# Content-Length: 216\n",
    "# Cookie: MUID=31573FC2BCE961391BD72C7DBD2E6034\n",
    "# Host: p.clarity.ms\n",
    "# Origin: https://www.bing.com\n",
    "# Referer: https://www.bing.com/\n",
    "# Sec-Fetch-Dest: empty\n",
    "# Sec-Fetch-Mode: cors\n",
    "# Sec-Fetch-Site: cross-site\n",
    "# User-Agent: Mozilla/5.0 (X11; Linux x86_64) AppleWebKit/537.36 (KHTML, like Gecko) Chrome/114.0.0.0 Safari/537.36 Edg/114.0.1823.41\n",
    "# sec-ch-ua: \"Not.A/Brand\";v=\"8\", \"Chromium\";v=\"114\", \"Microsoft Edge\";v=\"114\"\n",
    "# sec-ch-ua-mobile: ?0\n",
    "# sec-ch-ua-platform: \"Linux\""
   ]
  },
  {
   "cell_type": "code",
   "execution_count": 14,
   "metadata": {},
   "outputs": [],
   "source": [
    "import replicate\n",
    "\n",
    "# import \n",
    "\n",
    "REPLICATE_API_TOKEN = 'r8_F41Wbe8tnRtuA3JUquAPX7af8nOhKCx0nBdQa'\n",
    "\n",
    "replicate = replicate.Client(REPLICATE_API_TOKEN)\n"
   ]
  },
  {
   "cell_type": "code",
   "execution_count": 15,
   "metadata": {},
   "outputs": [
    {
     "ename": "ReplicateError",
     "evalue": "You need to set up billing to train models. Go to https://replicate.com/account/billing#billing to set it up.",
     "output_type": "error",
     "traceback": [
      "\u001b[0;31m---------------------------------------------------------------------------\u001b[0m",
      "\u001b[0;31mReplicateError\u001b[0m                            Traceback (most recent call last)",
      "\u001b[1;32m/home/linx/smis/templates/gpt4free/etc/testing.ipynb Cell 9\u001b[0m line \u001b[0;36m1\n\u001b[0;32m----> <a href='vscode-notebook-cell:/home/linx/smis/templates/gpt4free/etc/testing.ipynb#X11sZmlsZQ%3D%3D?line=0'>1</a>\u001b[0m training \u001b[39m=\u001b[39m replicate\u001b[39m.\u001b[39;49mtrainings\u001b[39m.\u001b[39;49mcreate(\n\u001b[1;32m      <a href='vscode-notebook-cell:/home/linx/smis/templates/gpt4free/etc/testing.ipynb#X11sZmlsZQ%3D%3D?line=1'>2</a>\u001b[0m   version\u001b[39m=\u001b[39;49m\u001b[39m\"\u001b[39;49m\u001b[39mstability-ai/sdxl:39ed52f2a78e934b3ba6e2a89f5b1c712de7dfea535525255b1aa35c5565e08b\u001b[39;49m\u001b[39m\"\u001b[39;49m,\n\u001b[1;32m      <a href='vscode-notebook-cell:/home/linx/smis/templates/gpt4free/etc/testing.ipynb#X11sZmlsZQ%3D%3D?line=2'>3</a>\u001b[0m   \u001b[39minput\u001b[39;49m\u001b[39m=\u001b[39;49m{\n\u001b[1;32m      <a href='vscode-notebook-cell:/home/linx/smis/templates/gpt4free/etc/testing.ipynb#X11sZmlsZQ%3D%3D?line=3'>4</a>\u001b[0m     \u001b[39m# set your inputs here\u001b[39;49;00m\n\u001b[1;32m      <a href='vscode-notebook-cell:/home/linx/smis/templates/gpt4free/etc/testing.ipynb#X11sZmlsZQ%3D%3D?line=4'>5</a>\u001b[0m   },\n\u001b[1;32m      <a href='vscode-notebook-cell:/home/linx/smis/templates/gpt4free/etc/testing.ipynb#X11sZmlsZQ%3D%3D?line=5'>6</a>\u001b[0m   destination\u001b[39m=\u001b[39;49m\u001b[39m\"\u001b[39;49m\u001b[39miphearum/sasdxl\u001b[39;49m\u001b[39m\"\u001b[39;49m\n\u001b[1;32m      <a href='vscode-notebook-cell:/home/linx/smis/templates/gpt4free/etc/testing.ipynb#X11sZmlsZQ%3D%3D?line=6'>7</a>\u001b[0m )\n\u001b[1;32m      <a href='vscode-notebook-cell:/home/linx/smis/templates/gpt4free/etc/testing.ipynb#X11sZmlsZQ%3D%3D?line=8'>9</a>\u001b[0m \u001b[39mprint\u001b[39m(training)\n",
      "File \u001b[0;32m~/miniconda3/lib/python3.11/site-packages/replicate/training.py:146\u001b[0m, in \u001b[0;36mTrainingCollection.create\u001b[0;34m(self, version, input, destination, webhook, webhook_events_filter, **kwargs)\u001b[0m\n\u001b[1;32m    143\u001b[0m model_name \u001b[39m=\u001b[39m match\u001b[39m.\u001b[39mgroup(\u001b[39m\"\u001b[39m\u001b[39mmodel_name\u001b[39m\u001b[39m\"\u001b[39m)\n\u001b[1;32m    144\u001b[0m version_id \u001b[39m=\u001b[39m match\u001b[39m.\u001b[39mgroup(\u001b[39m\"\u001b[39m\u001b[39mversion_id\u001b[39m\u001b[39m\"\u001b[39m)\n\u001b[0;32m--> 146\u001b[0m resp \u001b[39m=\u001b[39m \u001b[39mself\u001b[39;49m\u001b[39m.\u001b[39;49m_client\u001b[39m.\u001b[39;49m_request(\n\u001b[1;32m    147\u001b[0m     \u001b[39m\"\u001b[39;49m\u001b[39mPOST\u001b[39;49m\u001b[39m\"\u001b[39;49m,\n\u001b[1;32m    148\u001b[0m     \u001b[39mf\u001b[39;49m\u001b[39m\"\u001b[39;49m\u001b[39m/v1/models/\u001b[39;49m\u001b[39m{\u001b[39;49;00musername\u001b[39m}\u001b[39;49;00m\u001b[39m/\u001b[39;49m\u001b[39m{\u001b[39;49;00mmodel_name\u001b[39m}\u001b[39;49;00m\u001b[39m/versions/\u001b[39;49m\u001b[39m{\u001b[39;49;00mversion_id\u001b[39m}\u001b[39;49;00m\u001b[39m/trainings\u001b[39;49m\u001b[39m\"\u001b[39;49m,\n\u001b[1;32m    149\u001b[0m     json\u001b[39m=\u001b[39;49mbody,\n\u001b[1;32m    150\u001b[0m )\n\u001b[1;32m    151\u001b[0m obj \u001b[39m=\u001b[39m resp\u001b[39m.\u001b[39mjson()\n\u001b[1;32m    152\u001b[0m \u001b[39mdel\u001b[39;00m obj[\u001b[39m\"\u001b[39m\u001b[39mversion\u001b[39m\u001b[39m\"\u001b[39m]\n",
      "File \u001b[0;32m~/miniconda3/lib/python3.11/site-packages/replicate/client.py:81\u001b[0m, in \u001b[0;36mClient._request\u001b[0;34m(self, method, path, **kwargs)\u001b[0m\n\u001b[1;32m     78\u001b[0m resp \u001b[39m=\u001b[39m \u001b[39mself\u001b[39m\u001b[39m.\u001b[39m_client\u001b[39m.\u001b[39mrequest(method, path, \u001b[39m*\u001b[39m\u001b[39m*\u001b[39mkwargs)\n\u001b[1;32m     80\u001b[0m \u001b[39mif\u001b[39;00m \u001b[39m400\u001b[39m \u001b[39m<\u001b[39m\u001b[39m=\u001b[39m resp\u001b[39m.\u001b[39mstatus_code \u001b[39m<\u001b[39m \u001b[39m600\u001b[39m:\n\u001b[0;32m---> 81\u001b[0m     \u001b[39mraise\u001b[39;00m ReplicateError(resp\u001b[39m.\u001b[39mjson()[\u001b[39m\"\u001b[39m\u001b[39mdetail\u001b[39m\u001b[39m\"\u001b[39m])\n\u001b[1;32m     83\u001b[0m \u001b[39mreturn\u001b[39;00m resp\n",
      "\u001b[0;31mReplicateError\u001b[0m: You need to set up billing to train models. Go to https://replicate.com/account/billing#billing to set it up."
     ]
    }
   ],
   "source": [
    "training = replicate.trainings.create(\n",
    "  version=\"stability-ai/sdxl:39ed52f2a78e934b3ba6e2a89f5b1c712de7dfea535525255b1aa35c5565e08b\",\n",
    "  input={\n",
    "    # set your inputs here\n",
    "  },\n",
    "  destination=\"iphearum/sasdxl\"\n",
    ")\n",
    "\n",
    "print(training)"
   ]
  },
  {
   "cell_type": "code",
   "execution_count": 12,
   "metadata": {},
   "outputs": [
    {
     "ename": "ImportError",
     "evalue": "cannot import name 'proxies_list' from 'g4f.requests' (/home/linx/miniconda3/lib/python3.11/site-packages/g4f/requests.py)",
     "output_type": "error",
     "traceback": [
      "\u001b[0;31m---------------------------------------------------------------------------\u001b[0m",
      "\u001b[0;31mImportError\u001b[0m                               Traceback (most recent call last)",
      "\u001b[1;32m/home/linx/smis/templates/gpt4free/etc/testing.ipynb Cell 10\u001b[0m line \u001b[0;36m1\n\u001b[0;32m----> <a href='vscode-notebook-cell:/home/linx/smis/templates/gpt4free/etc/testing.ipynb#X13sZmlsZQ%3D%3D?line=0'>1</a>\u001b[0m \u001b[39mfrom\u001b[39;00m \u001b[39mg4f\u001b[39;00m\u001b[39m.\u001b[39;00m\u001b[39mrequests\u001b[39;00m \u001b[39mimport\u001b[39;00m (proxies_list)\n",
      "\u001b[0;31mImportError\u001b[0m: cannot import name 'proxies_list' from 'g4f.requests' (/home/linx/miniconda3/lib/python3.11/site-packages/g4f/requests.py)"
     ]
    }
   ],
   "source": [
    "from g4f.requests import (proxies_list)"
   ]
  },
  {
   "cell_type": "code",
   "execution_count": null,
   "metadata": {},
   "outputs": [],
   "source": [
    "proxies_list"
   ]
  }
 ],
 "metadata": {
  "kernelspec": {
   "display_name": "base",
   "language": "python",
   "name": "python3"
  },
  "language_info": {
   "codemirror_mode": {
    "name": "ipython",
    "version": 3
   },
   "file_extension": ".py",
   "mimetype": "text/x-python",
   "name": "python",
   "nbconvert_exporter": "python",
   "pygments_lexer": "ipython3",
   "version": "3.11.4"
  }
 },
 "nbformat": 4,
 "nbformat_minor": 2
}
