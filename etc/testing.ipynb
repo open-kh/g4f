{
 "cells": [
  {
   "cell_type": "code",
   "execution_count": 1,
   "metadata": {},
   "outputs": [],
   "source": [
    "import requests"
   ]
  },
  {
   "cell_type": "code",
   "execution_count": null,
   "metadata": {},
   "outputs": [],
   "source": [
    "API_KEY = ''"
   ]
  },
  {
   "cell_type": "code",
   "execution_count": null,
   "metadata": {},
   "outputs": [],
   "source": [
    "url = \"https://api.openai.org/v1/engines/codex-demo-aug2021/completions\"\n",
    "\n",
    "headers = {\n",
    "    \"Authorization\": \"Bearer \" + API_KEY,\n",
    "    \"Content-Type\": \"application/json\",\n",
    "}\n",
    "\n",
    "data = {\n",
    "    \"prompt\": \"In a shocking finding, scientists discovered a herd of unicorns living in a remote, \"\n",
    "}"
   ]
  },
  {
   "cell_type": "code",
   "execution_count": null,
   "metadata": {},
   "outputs": [],
   "source": [
    "# Request URL:\n",
    "# https://p.clarity.ms/collect\n",
    "# Request Method:\n",
    "# POST\n",
    "# Status Code:\n",
    "# 204 No Content\n",
    "# Remote Address:\n",
    "# 20.122.63.128:443\n",
    "# Referrer Policy:\n",
    "# origin-when-cross-origin"
   ]
  },
  {
   "cell_type": "code",
   "execution_count": null,
   "metadata": {},
   "outputs": [],
   "source": [
    "# HTTP/1.1 204 No Content\n",
    "# Server: nginx/1.18.0 (Ubuntu)\n",
    "# Date: Tue, 07 Nov 2023 12:17:16 GMT\n",
    "# Connection: keep-alive\n",
    "# Access-Control-Allow-Credentials: true\n",
    "# Access-Control-Allow-Origin: https://www.bing.com\n",
    "# Vary: Origin\n",
    "# Request-Context: appId=cid-v1:2f7711a9-b21e-4abe-a9d6-5b0ce5d18b64"
   ]
  },
  {
   "cell_type": "code",
   "execution_count": null,
   "metadata": {},
   "outputs": [],
   "source": [
    "# POST /collect HTTP/1.1\n",
    "# Accept: application/x-clarity-gzip\n",
    "# Accept-Encoding: gzip, deflate, br\n",
    "# Accept-Language: en-US,en;q=0.9\n",
    "# Connection: keep-alive\n",
    "# Content-Length: 216\n",
    "# Cookie: MUID=31573FC2BCE961391BD72C7DBD2E6034\n",
    "# Host: p.clarity.ms\n",
    "# Origin: https://www.bing.com\n",
    "# Referer: https://www.bing.com/\n",
    "# Sec-Fetch-Dest: empty\n",
    "# Sec-Fetch-Mode: cors\n",
    "# Sec-Fetch-Site: cross-site\n",
    "# User-Agent: Mozilla/5.0 (X11; Linux x86_64) AppleWebKit/537.36 (KHTML, like Gecko) Chrome/114.0.0.0 Safari/537.36 Edg/114.0.1823.41\n",
    "# sec-ch-ua: \"Not.A/Brand\";v=\"8\", \"Chromium\";v=\"114\", \"Microsoft Edge\";v=\"114\"\n",
    "# sec-ch-ua-mobile: ?0\n",
    "# sec-ch-ua-platform: \"Linux\""
   ]
  }
 ],
 "metadata": {
  "kernelspec": {
   "display_name": "base",
   "language": "python",
   "name": "python3"
  },
  "language_info": {
   "codemirror_mode": {
    "name": "ipython",
    "version": 3
   },
   "file_extension": ".py",
   "mimetype": "text/x-python",
   "name": "python",
   "nbconvert_exporter": "python",
   "pygments_lexer": "ipython3",
   "version": "3.11.4"
  }
 },
 "nbformat": 4,
 "nbformat_minor": 2
}
