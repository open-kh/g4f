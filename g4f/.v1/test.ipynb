{
 "cells": [
  {
   "cell_type": "code",
   "execution_count": null,
   "metadata": {},
   "outputs": [],
   "source": [
    "!pip install EdgeGPT --upgrade"
   ]
  },
  {
   "cell_type": "code",
   "execution_count": null,
   "metadata": {},
   "outputs": [],
   "source": [
    "from gpt4free import Completion, Provider, forefront, quora"
   ]
  },
  {
   "cell_type": "code",
   "execution_count": null,
   "metadata": {},
   "outputs": [],
   "source": [
    "token = forefront.Account.create()\n",
    "token"
   ]
  },
  {
   "cell_type": "code",
   "execution_count": null,
   "metadata": {},
   "outputs": [],
   "source": [
    "response = Completion.create(\n",
    "    Provider.ForeFront, prompt='Write a poem on Lionel Messi', model='gpt-4', token=token\n",
    ")\n",
    "print(response)\n",
    "print(f'END')"
   ]
  },
  {
   "cell_type": "code",
   "execution_count": null,
   "metadata": {},
   "outputs": [],
   "source": [
    "response = Completion.create(Provider.Theb, prompt='Write a poem on Lionel Messi')\n",
    "print(response)"
   ]
  },
  {
   "cell_type": "code",
   "execution_count": null,
   "metadata": {},
   "outputs": [],
   "source": [
    "from time import sleep\n",
    "\n",
    "token = quora.Account.create(proxy=None, logging=False)\n",
    "print('token', token)\n",
    "\n",
    "sleep(2)"
   ]
  },
  {
   "cell_type": "code",
   "execution_count": null,
   "metadata": {},
   "outputs": [],
   "source": [
    "for response in quora.StreamingCompletion.create(model='ChatGPT', prompt='hello world', token=token):\n",
    "    print(response.text, flush=True)\n",
    "\n",
    "quora.Account.delete(token)"
   ]
  },
  {
   "cell_type": "code",
   "execution_count": null,
   "metadata": {},
   "outputs": [],
   "source": [
    "# !python3 -m EdgeGPT.EdgeGPT -h"
   ]
  },
  {
   "cell_type": "code",
   "execution_count": 3,
   "metadata": {},
   "outputs": [],
   "source": [
    "import asyncio, json\n",
    "from EdgeGPT.EdgeGPT import Chatbot, ConversationStyle"
   ]
  },
  {
   "cell_type": "code",
   "execution_count": 5,
   "metadata": {},
   "outputs": [
    {
     "ename": "NotAllowedToAccess",
     "evalue": "Sorry, you need to login first to access this service.",
     "output_type": "error",
     "traceback": [
      "\u001b[0;31m---------------------------------------------------------------------------\u001b[0m",
      "\u001b[0;31mNotAllowedToAccess\u001b[0m                        Traceback (most recent call last)",
      "Cell \u001b[0;32mIn[5], line 1\u001b[0m\n\u001b[0;32m----> 1\u001b[0m bot \u001b[39m=\u001b[39m \u001b[39mawait\u001b[39;00m Chatbot\u001b[39m.\u001b[39mcreate() \u001b[39m# Passing cookies is \"optional\", as explained above\u001b[39;00m\n\u001b[1;32m      2\u001b[0m response \u001b[39m=\u001b[39m \u001b[39mawait\u001b[39;00m bot\u001b[39m.\u001b[39mask(prompt\u001b[39m=\u001b[39m\u001b[39m\"\u001b[39m\u001b[39mHello world\u001b[39m\u001b[39m\"\u001b[39m, conversation_style\u001b[39m=\u001b[39mConversationStyle\u001b[39m.\u001b[39mcreative, simplify_response\u001b[39m=\u001b[39m\u001b[39mTrue\u001b[39;00m)\n\u001b[1;32m      3\u001b[0m \u001b[39mprint\u001b[39m(json\u001b[39m.\u001b[39mdumps(response, indent\u001b[39m=\u001b[39m\u001b[39m2\u001b[39m)) \u001b[39m# Returns\u001b[39;00m\n",
      "File \u001b[0;32m~/projects/baichat/gpt4free/venv/lib/python3.11/site-packages/EdgeGPT/EdgeGPT.py:42\u001b[0m, in \u001b[0;36mChatbot.create\u001b[0;34m(proxy, cookies)\u001b[0m\n\u001b[1;32m     39\u001b[0m \u001b[39mself\u001b[39m \u001b[39m=\u001b[39m Chatbot\u001b[39m.\u001b[39m\u001b[39m__new__\u001b[39m(Chatbot)\n\u001b[1;32m     40\u001b[0m \u001b[39mself\u001b[39m\u001b[39m.\u001b[39mproxy \u001b[39m=\u001b[39m proxy\n\u001b[1;32m     41\u001b[0m \u001b[39mself\u001b[39m\u001b[39m.\u001b[39mchat_hub \u001b[39m=\u001b[39m ChatHub(\n\u001b[0;32m---> 42\u001b[0m     \u001b[39mawait\u001b[39;00m Conversation\u001b[39m.\u001b[39mcreate(\u001b[39mself\u001b[39m\u001b[39m.\u001b[39mproxy, cookies\u001b[39m=\u001b[39mcookies),\n\u001b[1;32m     43\u001b[0m     proxy\u001b[39m=\u001b[39m\u001b[39mself\u001b[39m\u001b[39m.\u001b[39mproxy,\n\u001b[1;32m     44\u001b[0m     cookies\u001b[39m=\u001b[39mcookies,\n\u001b[1;32m     45\u001b[0m )\n\u001b[1;32m     46\u001b[0m \u001b[39mreturn\u001b[39;00m \u001b[39mself\u001b[39m\n",
      "File \u001b[0;32m~/projects/baichat/gpt4free/venv/lib/python3.11/site-packages/EdgeGPT/conversation.py:121\u001b[0m, in \u001b[0;36mConversation.create\u001b[0;34m(proxy, cookies)\u001b[0m\n\u001b[1;32m    117\u001b[0m     \u001b[39mraise\u001b[39;00m \u001b[39mException\u001b[39;00m(\n\u001b[1;32m    118\u001b[0m         \u001b[39m\"\u001b[39m\u001b[39mAuthentication failed. You have not been accepted into the beta.\u001b[39m\u001b[39m\"\u001b[39m,\n\u001b[1;32m    119\u001b[0m     ) \u001b[39mfrom\u001b[39;00m \u001b[39mexc\u001b[39;00m\n\u001b[1;32m    120\u001b[0m \u001b[39mif\u001b[39;00m \u001b[39mself\u001b[39m\u001b[39m.\u001b[39mstruct[\u001b[39m\"\u001b[39m\u001b[39mresult\u001b[39m\u001b[39m\"\u001b[39m][\u001b[39m\"\u001b[39m\u001b[39mvalue\u001b[39m\u001b[39m\"\u001b[39m] \u001b[39m==\u001b[39m \u001b[39m\"\u001b[39m\u001b[39mUnauthorizedRequest\u001b[39m\u001b[39m\"\u001b[39m:\n\u001b[0;32m--> 121\u001b[0m     \u001b[39mraise\u001b[39;00m NotAllowedToAccess(\u001b[39mself\u001b[39m\u001b[39m.\u001b[39mstruct[\u001b[39m\"\u001b[39m\u001b[39mresult\u001b[39m\u001b[39m\"\u001b[39m][\u001b[39m\"\u001b[39m\u001b[39mmessage\u001b[39m\u001b[39m\"\u001b[39m])\n\u001b[1;32m    122\u001b[0m \u001b[39mreturn\u001b[39;00m \u001b[39mself\u001b[39m\n",
      "\u001b[0;31mNotAllowedToAccess\u001b[0m: Sorry, you need to login first to access this service."
     ]
    }
   ],
   "source": [
    "bot = await Chatbot.create() # Passing cookies is \"optional\", as explained above\n",
    "response = await bot.ask(prompt=\"Hello world\", conversation_style=ConversationStyle.creative, simplify_response=True)\n",
    "print(json.dumps(response, indent=2)) # Returns\n",
    "\"\"\"\n",
    "{\n",
    "    \"text\": str,\n",
    "    \"author\": str,\n",
    "    \"sources\": list[dict],\n",
    "    \"sources_text\": str,\n",
    "    \"suggestions\": list[str],\n",
    "    \"messages_left\": int\n",
    "}\n",
    "\"\"\"\n",
    "await bot.close()\n"
   ]
  }
 ],
 "metadata": {
  "kernelspec": {
   "display_name": "venv",
   "language": "python",
   "name": "python3"
  },
  "language_info": {
   "codemirror_mode": {
    "name": "ipython",
    "version": 3
   },
   "file_extension": ".py",
   "mimetype": "text/x-python",
   "name": "python",
   "nbconvert_exporter": "python",
   "pygments_lexer": "ipython3",
   "version": "3.11.2"
  },
  "orig_nbformat": 4
 },
 "nbformat": 4,
 "nbformat_minor": 2
}
