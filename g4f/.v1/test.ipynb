{
 "cells": [
  {
   "cell_type": "code",
   "execution_count": null,
   "metadata": {},
   "outputs": [],
   "source": [
    "!pip install EdgeGPT --upgrade"
   ]
  },
  {
   "cell_type": "code",
   "execution_count": null,
   "metadata": {},
   "outputs": [],
   "source": [
    "from gpt4free import Completion, Provider, forefront, quora"
   ]
  },
  {
   "cell_type": "code",
   "execution_count": null,
   "metadata": {},
   "outputs": [],
   "source": [
    "token = forefront.Account.create()\n",
    "token"
   ]
  },
  {
   "cell_type": "code",
   "execution_count": 2,
   "metadata": {},
   "outputs": [],
   "source": [
    "import gpt4free\n",
    "from gpt4free import Provider, quora, forefront\n",
    "\n",
    "# usage Poe\n",
    "# token = quora.Account.create(logging=False)\n",
    "# response = gpt4free.Completion.create(Provider.Poe, prompt='Write a poem on Lionel Messi', token=token, model='ChatGPT')\n",
    "# print(response)\n",
    "\n",
    "# # usage forefront\n",
    "# token = forefront.Account.create(logging=False)\n",
    "# response = gpt4free.Completion.create(\n",
    "#     Provider.ForeFront, prompt='Write a poem on Lionel Messi', model='gpt-4', token=token\n",
    "# )\n",
    "# print(response)\n",
    "# print(f'END')"
   ]
  },
  {
   "cell_type": "code",
   "execution_count": 3,
   "metadata": {},
   "outputs": [
    {
     "name": "stdout",
     "output_type": "stream",
     "text": [
      "Lionel Messi, a name that rings,\n",
      "In the hearts of all soccer kings,\n",
      "His swift moves and trained skill,\n",
      "Make his opponents swoon and thrill.\n",
      "\n",
      "Born in Rosario, Argentina, he rose,\n",
      "To heights of fame and glory, no one knows,\n",
      "With countless goals and trophies won,\n",
      "He's established himself as a true soccer son.\n",
      "\n",
      "His feet are magic, his vision keen,\n",
      "He scores from angles yet unseen,\n",
      "Defenders tremble at the sight,\n",
      "Of Messi in his flow and might.\n",
      "\n",
      "From Barca to Argentina's pride,\n",
      "Messi is a soccer hero to all worldwide,\n",
      "A true inspiration, his legacy so bright,\n",
      "Messi will forever shine bright.\n"
     ]
    }
   ],
   "source": [
    "response = gpt4free.Completion.create(Provider.You, prompt='Write a poem on Lionel Messi')\n",
    "print(response)"
   ]
  },
  {
   "cell_type": "code",
   "execution_count": 4,
   "metadata": {},
   "outputs": [
    {
     "name": "stdout",
     "output_type": "stream",
     "text": [
      "{\n",
      "    \"authority\": \"poe.com\",\n",
      "    \"accept\": \"*/*\",\n",
      "    \"accept-language\": \"en,fr-FR;q=0.9,fr;q=0.8,es-ES;q=0.7,es;q=0.6,en-US;q=0.5,am;q=0.4,de;q=0.3\",\n",
      "    \"content-type\": \"application/json\",\n",
      "    \"origin\": \"https://poe.com\",\n",
      "    \"poe-tag-id\": \"5e8d632e0aaa9f333835af8de43ba21b\",\n",
      "    \"referer\": \"https://poe.com/login\",\n",
      "    \"sec-ch-ua\": \"\\\"Chromium\\\";v=\\\"112\\\", \\\"Google Chrome\\\";v=\\\"112\\\", \\\"Not:A-Brand\\\";v=\\\"99\\\"\",\n",
      "    \"sec-ch-ua-mobile\": \"?0\",\n",
      "    \"sec-ch-ua-platform\": \"\\\"macOS\\\"\",\n",
      "    \"sec-fetch-dest\": \"empty\",\n",
      "    \"sec-fetch-mode\": \"cors\",\n",
      "    \"sec-fetch-site\": \"same-origin\",\n",
      "    \"user-agent\": \"Mozilla/5.0 (Macintosh; Intel Mac OS X 10_15_7) AppleWebKit/537.36 (KHTML, like Gecko) Chrome/112.0.0.0 Safari/537.36\",\n",
      "    \"poe-formkey\": \"d1ab0bb50720a413d03c54c39a5d03e40\",\n",
      "    \"poe-tchannel\": \"poe-chan51-8888-bdhyjgrbpwyxdyizulqs\"\n",
      "}\n",
      "Waiting for message...\n"
     ]
    },
    {
     "ename": "KeyboardInterrupt",
     "evalue": "",
     "output_type": "error",
     "traceback": [
      "\u001b[0;31m---------------------------------------------------------------------------\u001b[0m",
      "\u001b[0;31mKeyboardInterrupt\u001b[0m                         Traceback (most recent call last)",
      "Cell \u001b[0;32mIn[4], line 1\u001b[0m\n\u001b[0;32m----> 1\u001b[0m token \u001b[39m=\u001b[39m quora\u001b[39m.\u001b[39;49mAccount\u001b[39m.\u001b[39;49mcreate(logging\u001b[39m=\u001b[39;49m\u001b[39mFalse\u001b[39;49;00m)\n\u001b[1;32m      2\u001b[0m response \u001b[39m=\u001b[39m gpt4free\u001b[39m.\u001b[39mCompletion\u001b[39m.\u001b[39mcreate(Provider\u001b[39m.\u001b[39mPoe, prompt\u001b[39m=\u001b[39m\u001b[39m'\u001b[39m\u001b[39mWrite a poem on Lionel Messi\u001b[39m\u001b[39m'\u001b[39m, token\u001b[39m=\u001b[39mtoken, model\u001b[39m=\u001b[39m\u001b[39m'\u001b[39m\u001b[39mChatGPT\u001b[39m\u001b[39m'\u001b[39m)\n\u001b[1;32m      3\u001b[0m \u001b[39mprint\u001b[39m(response)\n",
      "File \u001b[0;32m~/projects/baichat/gpt4free/g4f/.v1/gpt4free/quora/__init__.py:258\u001b[0m, in \u001b[0;36mAccount.create\u001b[0;34m(proxy, logging, enable_bot_creation)\u001b[0m\n\u001b[1;32m    255\u001b[0m \u001b[39mif\u001b[39;00m logging:\n\u001b[1;32m    256\u001b[0m     \u001b[39mprint\u001b[39m(\u001b[39m'\u001b[39m\u001b[39msend_code\u001b[39m\u001b[39m'\u001b[39m, response\u001b[39m.\u001b[39mjson())\n\u001b[0;32m--> 258\u001b[0m mail_content \u001b[39m=\u001b[39m mail_client\u001b[39m.\u001b[39;49mget_message()\n\u001b[1;32m    259\u001b[0m mail_token \u001b[39m=\u001b[39m findall(\u001b[39mr\u001b[39m\u001b[39m'\u001b[39m\u001b[39m;\u001b[39m\u001b[39m\"\u001b[39m\u001b[39m>(\u001b[39m\u001b[39m\\\u001b[39m\u001b[39md\u001b[39m\u001b[39m{\u001b[39m\u001b[39m6,7})</div>\u001b[39m\u001b[39m'\u001b[39m, mail_content)[\u001b[39m0\u001b[39m]\n\u001b[1;32m    261\u001b[0m \u001b[39mif\u001b[39;00m logging:\n",
      "File \u001b[0;32m~/projects/baichat/gpt4free/g4f/.v1/gpt4free/quora/mail.py:44\u001b[0m, in \u001b[0;36mEmailnator.get_message\u001b[0;34m(self)\u001b[0m\n\u001b[1;32m     41\u001b[0m \u001b[39mprint\u001b[39m(\u001b[39m\"\u001b[39m\u001b[39mWaiting for message...\u001b[39m\u001b[39m\"\u001b[39m)\n\u001b[1;32m     43\u001b[0m \u001b[39mwhile\u001b[39;00m \u001b[39mTrue\u001b[39;00m:\n\u001b[0;32m---> 44\u001b[0m     sleep(\u001b[39m2\u001b[39m)\n\u001b[1;32m     45\u001b[0m     mail_token \u001b[39m=\u001b[39m \u001b[39mself\u001b[39m\u001b[39m.\u001b[39mclient\u001b[39m.\u001b[39mpost(\u001b[39m\"\u001b[39m\u001b[39mhttps://www.emailnator.com/message-list\u001b[39m\u001b[39m\"\u001b[39m, json\u001b[39m=\u001b[39m{\u001b[39m\"\u001b[39m\u001b[39memail\u001b[39m\u001b[39m\"\u001b[39m: \u001b[39mself\u001b[39m\u001b[39m.\u001b[39memail})\n\u001b[1;32m     47\u001b[0m     mail_token \u001b[39m=\u001b[39m loads(mail_token\u001b[39m.\u001b[39mtext)[\u001b[39m\"\u001b[39m\u001b[39mmessageData\u001b[39m\u001b[39m\"\u001b[39m]\n",
      "\u001b[0;31mKeyboardInterrupt\u001b[0m: "
     ]
    }
   ],
   "source": [
    "token = quora.Account.create(logging=False)\n",
    "response = gpt4free.Completion.create(Provider.Poe, prompt='Write a poem on Lionel Messi', token=token, model='ChatGPT')\n",
    "print(response)"
   ]
  },
  {
   "cell_type": "code",
   "execution_count": 5,
   "metadata": {},
   "outputs": [
    {
     "ename": "RuntimeError",
     "evalue": "Failed to create account!",
     "output_type": "error",
     "traceback": [
      "\u001b[0;31m---------------------------------------------------------------------------\u001b[0m",
      "\u001b[0;31mKeyError\u001b[0m                                  Traceback (most recent call last)",
      "File \u001b[0;32m~/projects/baichat/gpt4free/g4f/.v1/gpt4free/forefront/__init__.py:43\u001b[0m, in \u001b[0;36mAccount.create\u001b[0;34m(proxy, logging)\u001b[0m\n\u001b[1;32m     42\u001b[0m \u001b[39mtry\u001b[39;00m:\n\u001b[0;32m---> 43\u001b[0m     trace_token \u001b[39m=\u001b[39m response\u001b[39m.\u001b[39;49mjson()[\u001b[39m'\u001b[39;49m\u001b[39mresponse\u001b[39;49m\u001b[39m'\u001b[39;49m][\u001b[39m'\u001b[39m\u001b[39mid\u001b[39m\u001b[39m'\u001b[39m]\n\u001b[1;32m     44\u001b[0m     \u001b[39mif\u001b[39;00m logging:\n",
      "\u001b[0;31mKeyError\u001b[0m: 'response'",
      "\nDuring handling of the above exception, another exception occurred:\n",
      "\u001b[0;31mRuntimeError\u001b[0m                              Traceback (most recent call last)",
      "Cell \u001b[0;32mIn[5], line 1\u001b[0m\n\u001b[0;32m----> 1\u001b[0m token \u001b[39m=\u001b[39m forefront\u001b[39m.\u001b[39;49mAccount\u001b[39m.\u001b[39;49mcreate(logging\u001b[39m=\u001b[39;49m\u001b[39mFalse\u001b[39;49;00m)\n\u001b[1;32m      2\u001b[0m response \u001b[39m=\u001b[39m gpt4free\u001b[39m.\u001b[39mCompletion\u001b[39m.\u001b[39mcreate(\n\u001b[1;32m      3\u001b[0m     Provider\u001b[39m.\u001b[39mForeFront, prompt\u001b[39m=\u001b[39m\u001b[39m'\u001b[39m\u001b[39mWrite a poem on Lionel Messi\u001b[39m\u001b[39m'\u001b[39m, model\u001b[39m=\u001b[39m\u001b[39m'\u001b[39m\u001b[39mgpt-4\u001b[39m\u001b[39m'\u001b[39m, token\u001b[39m=\u001b[39mtoken\n\u001b[1;32m      4\u001b[0m )\n\u001b[1;32m      5\u001b[0m \u001b[39mprint\u001b[39m(response)\n",
      "File \u001b[0;32m~/projects/baichat/gpt4free/g4f/.v1/gpt4free/forefront/__init__.py:47\u001b[0m, in \u001b[0;36mAccount.create\u001b[0;34m(proxy, logging)\u001b[0m\n\u001b[1;32m     45\u001b[0m         \u001b[39mprint\u001b[39m(trace_token)\n\u001b[1;32m     46\u001b[0m \u001b[39mexcept\u001b[39;00m \u001b[39mKeyError\u001b[39;00m:\n\u001b[0;32m---> 47\u001b[0m     \u001b[39mraise\u001b[39;00m \u001b[39mRuntimeError\u001b[39;00m(\u001b[39m'\u001b[39m\u001b[39mFailed to create account!\u001b[39m\u001b[39m'\u001b[39m)\n\u001b[1;32m     49\u001b[0m response \u001b[39m=\u001b[39m client\u001b[39m.\u001b[39mpost(\n\u001b[1;32m     50\u001b[0m     \u001b[39mf\u001b[39m\u001b[39m'\u001b[39m\u001b[39mhttps://clerk.forefront.ai/v1/client/sign_ups/\u001b[39m\u001b[39m{\u001b[39;00mtrace_token\u001b[39m}\u001b[39;00m\u001b[39m/prepare_verification?_clerk_js_version=4.38.4\u001b[39m\u001b[39m'\u001b[39m,\n\u001b[1;32m     51\u001b[0m     data\u001b[39m=\u001b[39m{\n\u001b[0;32m   (...)\u001b[0m\n\u001b[1;32m     54\u001b[0m     },\n\u001b[1;32m     55\u001b[0m )\n\u001b[1;32m     57\u001b[0m \u001b[39mif\u001b[39;00m logging:\n",
      "\u001b[0;31mRuntimeError\u001b[0m: Failed to create account!"
     ]
    }
   ],
   "source": [
    "# token = forefront.Account.create(logging=False)\n",
    "# response = gpt4free.Completion.create(\n",
    "#     Provider.ForeFront, prompt='Write a poem on Lionel Messi', model='gpt-4', token=token\n",
    "# )\n",
    "# print(response)\n",
    "# print(f'END')"
   ]
  },
  {
   "cell_type": "code",
   "execution_count": null,
   "metadata": {},
   "outputs": [],
   "source": [
    "response = Completion.create(\n",
    "    Provider.ForeFront, prompt='Write a poem on Lionel Messi', model='gpt-4', token=token\n",
    ")\n",
    "print(response)\n",
    "print(f'END')"
   ]
  },
  {
   "cell_type": "code",
   "execution_count": null,
   "metadata": {},
   "outputs": [],
   "source": [
    "response = Completion.create(Provider.Theb, prompt='Write a poem on Lionel Messi')\n",
    "print(response)"
   ]
  },
  {
   "cell_type": "code",
   "execution_count": null,
   "metadata": {},
   "outputs": [],
   "source": [
    "from time import sleep\n",
    "\n",
    "token = quora.Account.create(proxy=None, logging=False)\n",
    "print('token', token)\n",
    "\n",
    "sleep(2)"
   ]
  },
  {
   "cell_type": "code",
   "execution_count": null,
   "metadata": {},
   "outputs": [],
   "source": [
    "for response in quora.StreamingCompletion.create(model='ChatGPT', prompt='hello world', token=token):\n",
    "    print(response.text, flush=True)\n",
    "\n",
    "quora.Account.delete(token)"
   ]
  },
  {
   "cell_type": "code",
   "execution_count": null,
   "metadata": {},
   "outputs": [],
   "source": [
    "# !python3 -m EdgeGPT.EdgeGPT -h"
   ]
  },
  {
   "cell_type": "code",
   "execution_count": 3,
   "metadata": {},
   "outputs": [],
   "source": [
    "import asyncio, json\n",
    "from EdgeGPT.EdgeGPT import Chatbot, ConversationStyle"
   ]
  },
  {
   "cell_type": "code",
   "execution_count": 5,
   "metadata": {},
   "outputs": [
    {
     "ename": "NotAllowedToAccess",
     "evalue": "Sorry, you need to login first to access this service.",
     "output_type": "error",
     "traceback": [
      "\u001b[0;31m---------------------------------------------------------------------------\u001b[0m",
      "\u001b[0;31mNotAllowedToAccess\u001b[0m                        Traceback (most recent call last)",
      "Cell \u001b[0;32mIn[5], line 1\u001b[0m\n\u001b[0;32m----> 1\u001b[0m bot \u001b[39m=\u001b[39m \u001b[39mawait\u001b[39;00m Chatbot\u001b[39m.\u001b[39mcreate() \u001b[39m# Passing cookies is \"optional\", as explained above\u001b[39;00m\n\u001b[1;32m      2\u001b[0m response \u001b[39m=\u001b[39m \u001b[39mawait\u001b[39;00m bot\u001b[39m.\u001b[39mask(prompt\u001b[39m=\u001b[39m\u001b[39m\"\u001b[39m\u001b[39mHello world\u001b[39m\u001b[39m\"\u001b[39m, conversation_style\u001b[39m=\u001b[39mConversationStyle\u001b[39m.\u001b[39mcreative, simplify_response\u001b[39m=\u001b[39m\u001b[39mTrue\u001b[39;00m)\n\u001b[1;32m      3\u001b[0m \u001b[39mprint\u001b[39m(json\u001b[39m.\u001b[39mdumps(response, indent\u001b[39m=\u001b[39m\u001b[39m2\u001b[39m)) \u001b[39m# Returns\u001b[39;00m\n",
      "File \u001b[0;32m~/projects/baichat/gpt4free/venv/lib/python3.11/site-packages/EdgeGPT/EdgeGPT.py:42\u001b[0m, in \u001b[0;36mChatbot.create\u001b[0;34m(proxy, cookies)\u001b[0m\n\u001b[1;32m     39\u001b[0m \u001b[39mself\u001b[39m \u001b[39m=\u001b[39m Chatbot\u001b[39m.\u001b[39m\u001b[39m__new__\u001b[39m(Chatbot)\n\u001b[1;32m     40\u001b[0m \u001b[39mself\u001b[39m\u001b[39m.\u001b[39mproxy \u001b[39m=\u001b[39m proxy\n\u001b[1;32m     41\u001b[0m \u001b[39mself\u001b[39m\u001b[39m.\u001b[39mchat_hub \u001b[39m=\u001b[39m ChatHub(\n\u001b[0;32m---> 42\u001b[0m     \u001b[39mawait\u001b[39;00m Conversation\u001b[39m.\u001b[39mcreate(\u001b[39mself\u001b[39m\u001b[39m.\u001b[39mproxy, cookies\u001b[39m=\u001b[39mcookies),\n\u001b[1;32m     43\u001b[0m     proxy\u001b[39m=\u001b[39m\u001b[39mself\u001b[39m\u001b[39m.\u001b[39mproxy,\n\u001b[1;32m     44\u001b[0m     cookies\u001b[39m=\u001b[39mcookies,\n\u001b[1;32m     45\u001b[0m )\n\u001b[1;32m     46\u001b[0m \u001b[39mreturn\u001b[39;00m \u001b[39mself\u001b[39m\n",
      "File \u001b[0;32m~/projects/baichat/gpt4free/venv/lib/python3.11/site-packages/EdgeGPT/conversation.py:121\u001b[0m, in \u001b[0;36mConversation.create\u001b[0;34m(proxy, cookies)\u001b[0m\n\u001b[1;32m    117\u001b[0m     \u001b[39mraise\u001b[39;00m \u001b[39mException\u001b[39;00m(\n\u001b[1;32m    118\u001b[0m         \u001b[39m\"\u001b[39m\u001b[39mAuthentication failed. You have not been accepted into the beta.\u001b[39m\u001b[39m\"\u001b[39m,\n\u001b[1;32m    119\u001b[0m     ) \u001b[39mfrom\u001b[39;00m \u001b[39mexc\u001b[39;00m\n\u001b[1;32m    120\u001b[0m \u001b[39mif\u001b[39;00m \u001b[39mself\u001b[39m\u001b[39m.\u001b[39mstruct[\u001b[39m\"\u001b[39m\u001b[39mresult\u001b[39m\u001b[39m\"\u001b[39m][\u001b[39m\"\u001b[39m\u001b[39mvalue\u001b[39m\u001b[39m\"\u001b[39m] \u001b[39m==\u001b[39m \u001b[39m\"\u001b[39m\u001b[39mUnauthorizedRequest\u001b[39m\u001b[39m\"\u001b[39m:\n\u001b[0;32m--> 121\u001b[0m     \u001b[39mraise\u001b[39;00m NotAllowedToAccess(\u001b[39mself\u001b[39m\u001b[39m.\u001b[39mstruct[\u001b[39m\"\u001b[39m\u001b[39mresult\u001b[39m\u001b[39m\"\u001b[39m][\u001b[39m\"\u001b[39m\u001b[39mmessage\u001b[39m\u001b[39m\"\u001b[39m])\n\u001b[1;32m    122\u001b[0m \u001b[39mreturn\u001b[39;00m \u001b[39mself\u001b[39m\n",
      "\u001b[0;31mNotAllowedToAccess\u001b[0m: Sorry, you need to login first to access this service."
     ]
    }
   ],
   "source": [
    "bot = await Chatbot.create() # Passing cookies is \"optional\", as explained above\n",
    "response = await bot.ask(prompt=\"Hello world\", conversation_style=ConversationStyle.creative, simplify_response=True)\n",
    "print(json.dumps(response, indent=2)) # Returns\n",
    "\"\"\"\n",
    "{\n",
    "    \"text\": str,\n",
    "    \"author\": str,\n",
    "    \"sources\": list[dict],\n",
    "    \"sources_text\": str,\n",
    "    \"suggestions\": list[str],\n",
    "    \"messages_left\": int\n",
    "}\n",
    "\"\"\"\n",
    "await bot.close()\n"
   ]
  }
 ],
 "metadata": {
  "kernelspec": {
   "display_name": "venv",
   "language": "python",
   "name": "python3"
  },
  "language_info": {
   "codemirror_mode": {
    "name": "ipython",
    "version": 3
   },
   "file_extension": ".py",
   "mimetype": "text/x-python",
   "name": "python",
   "nbconvert_exporter": "python",
   "pygments_lexer": "ipython3",
   "version": "3.11.2"
  },
  "orig_nbformat": 4
 },
 "nbformat": 4,
 "nbformat_minor": 2
}
